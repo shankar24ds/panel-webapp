{
 "cells": [
  {
   "cell_type": "markdown",
   "id": "f05715d3",
   "metadata": {},
   "source": [
    "**Panel** is a free, Python-based software library that enables you to build personalized, interactive web apps and dashboards. It allows you to connect widgets that you design to data visualizations, such as graphs, images, tables, or text, to create a customized experience."
   ]
  },
  {
   "cell_type": "code",
   "execution_count": 20,
   "id": "8968ed83",
   "metadata": {},
   "outputs": [],
   "source": [
    "# importing libraries\n",
    "import pandas as pd\n",
    "import seaborn as sns\n",
    "import matplotlib.pyplot as plt\n",
    "import panel as pn\n",
    "import hvplot.pandas\n",
    "\n",
    "pn.extension()"
   ]
  },
  {
   "cell_type": "code",
   "execution_count": 21,
   "id": "ba8e3842",
   "metadata": {},
   "outputs": [],
   "source": [
    "# loading real world bakery sales data\n",
    "df = pd.read_csv('bakery_sales.csv')"
   ]
  },
  {
   "cell_type": "code",
   "execution_count": 22,
   "id": "ee9a9c1d",
   "metadata": {},
   "outputs": [
    {
     "data": {
      "text/html": [
       "<div>\n",
       "<style scoped>\n",
       "    .dataframe tbody tr th:only-of-type {\n",
       "        vertical-align: middle;\n",
       "    }\n",
       "\n",
       "    .dataframe tbody tr th {\n",
       "        vertical-align: top;\n",
       "    }\n",
       "\n",
       "    .dataframe thead th {\n",
       "        text-align: right;\n",
       "    }\n",
       "</style>\n",
       "<table border=\"1\" class=\"dataframe\">\n",
       "  <thead>\n",
       "    <tr style=\"text-align: right;\">\n",
       "      <th></th>\n",
       "      <th>product</th>\n",
       "      <th>price</th>\n",
       "      <th>year_</th>\n",
       "      <th>month_</th>\n",
       "      <th>day_</th>\n",
       "    </tr>\n",
       "  </thead>\n",
       "  <tbody>\n",
       "    <tr>\n",
       "      <th>0</th>\n",
       "      <td>NaN</td>\n",
       "      <td>NaN</td>\n",
       "      <td>2022</td>\n",
       "      <td>10</td>\n",
       "      <td>17</td>\n",
       "    </tr>\n",
       "    <tr>\n",
       "      <th>1</th>\n",
       "      <td>cake</td>\n",
       "      <td>500.0</td>\n",
       "      <td>2022</td>\n",
       "      <td>7</td>\n",
       "      <td>1</td>\n",
       "    </tr>\n",
       "    <tr>\n",
       "      <th>2</th>\n",
       "      <td>cake</td>\n",
       "      <td>450.0</td>\n",
       "      <td>2021</td>\n",
       "      <td>6</td>\n",
       "      <td>3</td>\n",
       "    </tr>\n",
       "  </tbody>\n",
       "</table>\n",
       "</div>"
      ],
      "text/plain": [
       "  product  price  year_  month_  day_\n",
       "0     NaN    NaN   2022      10    17\n",
       "1    cake  500.0   2022       7     1\n",
       "2    cake  450.0   2021       6     3"
      ]
     },
     "execution_count": 22,
     "metadata": {},
     "output_type": "execute_result"
    }
   ],
   "source": [
    "df.head(3)"
   ]
  },
  {
   "cell_type": "code",
   "execution_count": 23,
   "id": "9361d2df",
   "metadata": {},
   "outputs": [],
   "source": [
    "df = df[df['product']!='cake']"
   ]
  },
  {
   "cell_type": "markdown",
   "id": "14df8ff8",
   "metadata": {},
   "source": [
    "### Interactive Plots"
   ]
  },
  {
   "cell_type": "code",
   "execution_count": 24,
   "id": "f26b93cc",
   "metadata": {},
   "outputs": [
    {
     "data": {},
     "metadata": {},
     "output_type": "display_data"
    },
    {
     "data": {},
     "metadata": {},
     "output_type": "display_data"
    },
    {
     "data": {
      "application/vnd.holoviews_exec.v0+json": "",
      "text/html": [
       "<div id='12498'>\n",
       "  <div class=\"bk-root\" id=\"ea1eb307-0033-4a1c-a5a5-6de33fde1c65\" data-root-id=\"12498\"></div>\n",
       "</div>\n",
       "<script type=\"application/javascript\">(function(root) {\n",
       "  function embed_document(root) {\n",
       "    var docs_json = {\"48082ce6-e963-4b18-90e4-c2233e51719d\":{\"defs\":[{\"extends\":null,\"module\":null,\"name\":\"ReactiveHTML1\",\"overrides\":[],\"properties\":[]},{\"extends\":null,\"module\":null,\"name\":\"FlexBox1\",\"overrides\":[],\"properties\":[{\"default\":\"flex-start\",\"kind\":null,\"name\":\"align_content\"},{\"default\":\"flex-start\",\"kind\":null,\"name\":\"align_items\"},{\"default\":\"row\",\"kind\":null,\"name\":\"flex_direction\"},{\"default\":\"wrap\",\"kind\":null,\"name\":\"flex_wrap\"},{\"default\":\"flex-start\",\"kind\":null,\"name\":\"justify_content\"}]},{\"extends\":null,\"module\":null,\"name\":\"GridStack1\",\"overrides\":[],\"properties\":[{\"default\":\"warn\",\"kind\":null,\"name\":\"mode\"},{\"default\":null,\"kind\":null,\"name\":\"ncols\"},{\"default\":null,\"kind\":null,\"name\":\"nrows\"},{\"default\":true,\"kind\":null,\"name\":\"allow_resize\"},{\"default\":true,\"kind\":null,\"name\":\"allow_drag\"},{\"default\":[],\"kind\":null,\"name\":\"state\"}]},{\"extends\":null,\"module\":null,\"name\":\"click1\",\"overrides\":[],\"properties\":[{\"default\":\"\",\"kind\":null,\"name\":\"terminal_output\"},{\"default\":\"\",\"kind\":null,\"name\":\"debug_name\"},{\"default\":0,\"kind\":null,\"name\":\"clears\"}]},{\"extends\":null,\"module\":null,\"name\":\"NotificationAreaBase1\",\"overrides\":[],\"properties\":[{\"default\":\"bottom-right\",\"kind\":null,\"name\":\"position\"},{\"default\":0,\"kind\":null,\"name\":\"_clear\"}]},{\"extends\":null,\"module\":null,\"name\":\"NotificationArea1\",\"overrides\":[],\"properties\":[{\"default\":[],\"kind\":null,\"name\":\"notifications\"},{\"default\":\"bottom-right\",\"kind\":null,\"name\":\"position\"},{\"default\":0,\"kind\":null,\"name\":\"_clear\"},{\"default\":[{\"background\":\"#ffc107\",\"icon\":{\"className\":\"fas fa-exclamation-triangle\",\"color\":\"white\",\"tagName\":\"i\"},\"type\":\"warning\"},{\"background\":\"#007bff\",\"icon\":{\"className\":\"fas fa-info-circle\",\"color\":\"white\",\"tagName\":\"i\"},\"type\":\"info\"}],\"kind\":null,\"name\":\"types\"}]},{\"extends\":null,\"module\":null,\"name\":\"Notification\",\"overrides\":[],\"properties\":[{\"default\":null,\"kind\":null,\"name\":\"background\"},{\"default\":3000,\"kind\":null,\"name\":\"duration\"},{\"default\":null,\"kind\":null,\"name\":\"icon\"},{\"default\":\"\",\"kind\":null,\"name\":\"message\"},{\"default\":null,\"kind\":null,\"name\":\"notification_type\"},{\"default\":false,\"kind\":null,\"name\":\"_destroyed\"}]},{\"extends\":null,\"module\":null,\"name\":\"TemplateActions1\",\"overrides\":[],\"properties\":[{\"default\":0,\"kind\":null,\"name\":\"open_modal\"},{\"default\":0,\"kind\":null,\"name\":\"close_modal\"}]},{\"extends\":null,\"module\":null,\"name\":\"MaterialTemplateActions1\",\"overrides\":[],\"properties\":[{\"default\":0,\"kind\":null,\"name\":\"open_modal\"},{\"default\":0,\"kind\":null,\"name\":\"close_modal\"}]}],\"roots\":{\"references\":[{\"attributes\":{},\"id\":\"12517\",\"type\":\"CategoricalTicker\"},{\"attributes\":{},\"id\":\"12549\",\"type\":\"BasicTickFormatter\"},{\"attributes\":{\"bottom\":{\"value\":0},\"fill_alpha\":{\"value\":1.0},\"fill_color\":{\"value\":\"#30a2da\"},\"hatch_alpha\":{\"value\":1.0},\"hatch_color\":{\"value\":\"#30a2da\"},\"hatch_scale\":{\"value\":12.0},\"hatch_weight\":{\"value\":1.0},\"line_alpha\":{\"value\":1.0},\"line_cap\":{\"value\":\"butt\"},\"line_color\":{\"value\":\"black\"},\"line_dash\":{\"value\":[]},\"line_dash_offset\":{\"value\":0},\"line_join\":{\"value\":\"bevel\"},\"line_width\":{\"value\":1},\"top\":{\"field\":\"Revenue\"},\"width\":{\"value\":0.8},\"x\":{\"field\":\"product\"}},\"id\":\"12544\",\"type\":\"VBar\"},{\"attributes\":{\"coordinates\":null,\"group\":null,\"text\":\"Revenue\",\"text_color\":\"black\",\"text_font_size\":\"12pt\"},\"id\":\"12508\",\"type\":\"Title\"},{\"attributes\":{},\"id\":\"12537\",\"type\":\"Selection\"},{\"attributes\":{},\"id\":\"12523\",\"type\":\"SaveTool\"},{\"attributes\":{\"children\":[{\"id\":\"12507\"}],\"margin\":[0,0,0,0],\"name\":\"Row12218\"},\"id\":\"12503\",\"type\":\"Row\"},{\"attributes\":{\"fill_alpha\":{\"value\":0.2},\"fill_color\":{\"value\":\"#30a2da\"},\"hatch_alpha\":{\"value\":0.2},\"hatch_color\":{\"value\":\"#30a2da\"},\"line_alpha\":{\"value\":0.2},\"top\":{\"field\":\"Revenue\"},\"width\":{\"value\":0.8},\"x\":{\"field\":\"product\"}},\"id\":\"12541\",\"type\":\"VBar\"},{\"attributes\":{\"below\":[{\"id\":\"12516\"}],\"center\":[{\"id\":\"12518\"},{\"id\":\"12522\"}],\"height\":300,\"left\":[{\"id\":\"12519\"}],\"margin\":[5,5,5,5],\"min_border_bottom\":10,\"min_border_left\":10,\"min_border_right\":10,\"min_border_top\":10,\"renderers\":[{\"id\":\"12542\"}],\"sizing_mode\":\"fixed\",\"title\":{\"id\":\"12508\"},\"toolbar\":{\"id\":\"12529\"},\"width\":700,\"x_range\":{\"id\":\"12504\"},\"x_scale\":{\"id\":\"12512\"},\"y_range\":{\"id\":\"12505\"},\"y_scale\":{\"id\":\"12514\"}},\"id\":\"12507\",\"subtype\":\"Figure\",\"type\":\"Plot\"},{\"attributes\":{},\"id\":\"12558\",\"type\":\"UnionRenderers\"},{\"attributes\":{},\"id\":\"12514\",\"type\":\"LinearScale\"},{\"attributes\":{\"bottom_units\":\"screen\",\"coordinates\":null,\"fill_alpha\":0.5,\"fill_color\":\"lightgrey\",\"group\":null,\"left_units\":\"screen\",\"level\":\"overlay\",\"line_alpha\":1.0,\"line_color\":\"black\",\"line_dash\":[4,4],\"line_width\":2,\"right_units\":\"screen\",\"syncable\":false,\"top_units\":\"screen\"},\"id\":\"12528\",\"type\":\"BoxAnnotation\"},{\"attributes\":{\"axis_label\":\"Revenue\",\"coordinates\":null,\"formatter\":{\"id\":\"12549\"},\"group\":null,\"major_label_policy\":{\"id\":\"12550\"},\"ticker\":{\"id\":\"12520\"}},\"id\":\"12519\",\"type\":\"LinearAxis\"},{\"attributes\":{\"callback\":null,\"renderers\":[{\"id\":\"12542\"}],\"tags\":[\"hv_created\"],\"tooltips\":[[\"product\",\"@{product}\"],[\"Revenue\",\"@{Revenue}\"]]},\"id\":\"12506\",\"type\":\"HoverTool\"},{\"attributes\":{\"end\":12,\"margin\":[5,10,5,10],\"start\":1,\"title\":\"Month Slider\",\"value\":12},\"id\":\"12500\",\"type\":\"Slider\"},{\"attributes\":{\"factors\":[\"bento\",\"brownie\",\"cakepops\",\"cookie\",\"cupcake\",\"entremet\",\"fruit_cake\",\"hamper\",\"misc_&_combo\"],\"tags\":[[[\"product\",\"product\",null]]]},\"id\":\"12504\",\"type\":\"FactorRange\"},{\"attributes\":{\"axis_label\":\"product\",\"coordinates\":null,\"formatter\":{\"id\":\"12546\"},\"group\":null,\"major_label_orientation\":1.5707963267948966,\"major_label_policy\":{\"id\":\"12547\"},\"ticker\":{\"id\":\"12517\"}},\"id\":\"12516\",\"type\":\"CategoricalAxis\"},{\"attributes\":{\"coordinates\":null,\"data_source\":{\"id\":\"12536\"},\"glyph\":{\"id\":\"12539\"},\"group\":null,\"hover_glyph\":null,\"muted_glyph\":{\"id\":\"12541\"},\"nonselection_glyph\":{\"id\":\"12540\"},\"selection_glyph\":{\"id\":\"12544\"},\"view\":{\"id\":\"12543\"}},\"id\":\"12542\",\"type\":\"GlyphRenderer\"},{\"attributes\":{\"children\":[{\"id\":\"12499\"},{\"id\":\"12503\"}],\"margin\":[0,0,0,0],\"name\":\"Column12132\"},\"id\":\"12498\",\"type\":\"Column\"},{\"attributes\":{\"end\":3763.0,\"reset_end\":3763.0,\"reset_start\":0.0,\"tags\":[[[\"Revenue\",\"Revenue\",null]]]},\"id\":\"12505\",\"type\":\"Range1d\"},{\"attributes\":{\"source\":{\"id\":\"12536\"}},\"id\":\"12543\",\"type\":\"CDSView\"},{\"attributes\":{},\"id\":\"12520\",\"type\":\"BasicTicker\"},{\"attributes\":{},\"id\":\"12525\",\"type\":\"WheelZoomTool\"},{\"attributes\":{},\"id\":\"12524\",\"type\":\"PanTool\"},{\"attributes\":{},\"id\":\"12547\",\"type\":\"AllLabels\"},{\"attributes\":{},\"id\":\"12546\",\"type\":\"CategoricalTickFormatter\"},{\"attributes\":{},\"id\":\"12550\",\"type\":\"AllLabels\"},{\"attributes\":{\"fill_alpha\":{\"value\":0.1},\"fill_color\":{\"value\":\"#30a2da\"},\"hatch_alpha\":{\"value\":0.1},\"hatch_color\":{\"value\":\"#30a2da\"},\"line_alpha\":{\"value\":0.1},\"top\":{\"field\":\"Revenue\"},\"width\":{\"value\":0.8},\"x\":{\"field\":\"product\"}},\"id\":\"12540\",\"type\":\"VBar\"},{\"attributes\":{\"data\":{\"Revenue\":{\"__ndarray__\":\"AAAAAABQhEAAAAAAAIqnQAAAAAAAMIFAAAAAAAAAWUAAAAAAABCdQAAAAAAAaJBAAAAAAAAwkUAAAAAAAMyqQAAAAAAAgI9A\",\"dtype\":\"float64\",\"order\":\"little\",\"shape\":[9]},\"product\":[\"bento\",\"brownie\",\"cakepops\",\"cookie\",\"cupcake\",\"entremet\",\"fruit_cake\",\"hamper\",\"misc_&_combo\"]},\"selected\":{\"id\":\"12537\"},\"selection_policy\":{\"id\":\"12558\"}},\"id\":\"12536\",\"type\":\"ColumnDataSource\"},{\"attributes\":{\"client_comm_id\":\"5234288004fd4ad9a03053adc3e5b90a\",\"comm_id\":\"f7e1608fbba04df1ad88b5e79c6c4c6c\",\"plot_id\":\"12498\"},\"id\":\"12591\",\"type\":\"panel.models.comm_manager.CommManager\"},{\"attributes\":{\"axis\":{\"id\":\"12516\"},\"coordinates\":null,\"grid_line_color\":null,\"group\":null,\"ticker\":null},\"id\":\"12518\",\"type\":\"Grid\"},{\"attributes\":{\"tools\":[{\"id\":\"12506\"},{\"id\":\"12523\"},{\"id\":\"12524\"},{\"id\":\"12525\"},{\"id\":\"12526\"},{\"id\":\"12527\"}]},\"id\":\"12529\",\"type\":\"Toolbar\"},{\"attributes\":{\"children\":[{\"id\":\"12500\"},{\"id\":\"12501\"},{\"id\":\"12502\"}],\"margin\":[0,0,0,0],\"name\":\"Column12219\"},\"id\":\"12499\",\"type\":\"Column\"},{\"attributes\":{\"axis\":{\"id\":\"12519\"},\"coordinates\":null,\"dimension\":1,\"grid_line_color\":null,\"group\":null,\"ticker\":null},\"id\":\"12522\",\"type\":\"Grid\"},{\"attributes\":{\"margin\":[5,10,5,10],\"options\":[\"2021\",\"2022\"],\"title\":\"Select Year\",\"value\":\"2021\"},\"id\":\"12501\",\"type\":\"panel.models.widgets.CustomSelect\"},{\"attributes\":{\"active\":0,\"labels\":[\"Revenue\",\"Order_count\"],\"margin\":[5,10,5,10]},\"id\":\"12502\",\"type\":\"RadioButtonGroup\"},{\"attributes\":{\"overlay\":{\"id\":\"12528\"}},\"id\":\"12526\",\"type\":\"BoxZoomTool\"},{\"attributes\":{\"fill_color\":{\"value\":\"#30a2da\"},\"hatch_color\":{\"value\":\"#30a2da\"},\"top\":{\"field\":\"Revenue\"},\"width\":{\"value\":0.8},\"x\":{\"field\":\"product\"}},\"id\":\"12539\",\"type\":\"VBar\"},{\"attributes\":{},\"id\":\"12527\",\"type\":\"ResetTool\"},{\"attributes\":{},\"id\":\"12512\",\"type\":\"CategoricalScale\"}],\"root_ids\":[\"12498\",\"12591\"]},\"title\":\"Bokeh Application\",\"version\":\"2.4.3\"}};\n",
       "    var render_items = [{\"docid\":\"48082ce6-e963-4b18-90e4-c2233e51719d\",\"root_ids\":[\"12498\"],\"roots\":{\"12498\":\"ea1eb307-0033-4a1c-a5a5-6de33fde1c65\"}}];\n",
       "    root.Bokeh.embed.embed_items_notebook(docs_json, render_items);\n",
       "  }\n",
       "  if (root.Bokeh !== undefined && root.Bokeh.Panel !== undefined) {\n",
       "    embed_document(root);\n",
       "  } else {\n",
       "    var attempts = 0;\n",
       "    var timer = setInterval(function(root) {\n",
       "      if (root.Bokeh !== undefined && root.Bokeh.Panel !== undefined) {\n",
       "        clearInterval(timer);\n",
       "        embed_document(root);\n",
       "      } else if (document.readyState == \"complete\") {\n",
       "        attempts++;\n",
       "        if (attempts > 200) {\n",
       "          clearInterval(timer);\n",
       "          console.log(\"Bokeh: ERROR: Unable to run BokehJS code because BokehJS library is missing\");\n",
       "        }\n",
       "      }\n",
       "    }, 25, root)\n",
       "  }\n",
       "})(window);</script>"
      ],
      "text/plain": [
       "Column\n",
       "    [0] Column\n",
       "        [0] IntSlider(end=12, name='Month Slider', start=1, value=12)\n",
       "        [1] Select(options=[2021, 2022], value=2021)\n",
       "        [2] RadioButtonGroup(name='Type', options=['Revenue', 'Order_count']...], value='Revenue')\n",
       "    [1] Row\n",
       "        [0] HoloViews(Bars, name='interactive12131')"
      ]
     },
     "execution_count": 24,
     "metadata": {
      "application/vnd.holoviews_exec.v0+json": {
       "id": "12498"
      }
     },
     "output_type": "execute_result"
    }
   ],
   "source": [
    "# product wise revenue/order_count bar plot\n",
    "\n",
    "# create widgets\n",
    "select_bar = pn.widgets.Select(name='Select Year', options=[2021, 2022])\n",
    "slider_bar = pn.widgets.IntSlider(start=df['month_'].min(), end=df['month_'].max(), value=df['month_'].max(), name='Month Slider')\n",
    "radioButtonGroup_bar = pn.widgets.RadioButtonGroup(name='Type', options=['Revenue', 'Order_count'])\n",
    "\n",
    "\n",
    "# define the plot function\n",
    "def bar_plot(a, b, c):\n",
    "    if c == 'Revenue':\n",
    "        prod_rev = df[(df['month_']==a) &(df['year_']==b)].groupby(['product']).agg(Revenue=('price', 'sum')).reset_index()\n",
    "        return prod_rev.hvplot(x='product', y='Revenue', kind='bar', rot=90, title='Revenue')\n",
    "    elif c == 'Order_count':\n",
    "        prod_rev = df[(df['month_']==a) &(df['year_']==b)].groupby(['product']).agg(Order_count=('price', 'count')).reset_index()\n",
    "        return prod_rev.hvplot(x='product', y='Order_count', kind='bar', rot=90, title='Order_count')\n",
    "    \n",
    "\n",
    "# create interaction between widget and function\n",
    "pn.interact(bar_plot, a=slider_bar, b=select_bar, c=radioButtonGroup_bar)"
   ]
  },
  {
   "cell_type": "code",
   "execution_count": 25,
   "id": "4ac024a1",
   "metadata": {},
   "outputs": [
    {
     "data": {},
     "metadata": {},
     "output_type": "display_data"
    },
    {
     "data": {},
     "metadata": {},
     "output_type": "display_data"
    },
    {
     "data": {
      "application/vnd.holoviews_exec.v0+json": "",
      "text/html": [
       "<div id='12642'>\n",
       "  <div class=\"bk-root\" id=\"bd80c17c-92a4-4d8d-b905-638b9fdd4ca5\" data-root-id=\"12642\"></div>\n",
       "</div>\n",
       "<script type=\"application/javascript\">(function(root) {\n",
       "  function embed_document(root) {\n",
       "    var docs_json = {\"7fa040f4-9377-4937-ac1c-ce12be184d6f\":{\"defs\":[{\"extends\":null,\"module\":null,\"name\":\"ReactiveHTML1\",\"overrides\":[],\"properties\":[]},{\"extends\":null,\"module\":null,\"name\":\"FlexBox1\",\"overrides\":[],\"properties\":[{\"default\":\"flex-start\",\"kind\":null,\"name\":\"align_content\"},{\"default\":\"flex-start\",\"kind\":null,\"name\":\"align_items\"},{\"default\":\"row\",\"kind\":null,\"name\":\"flex_direction\"},{\"default\":\"wrap\",\"kind\":null,\"name\":\"flex_wrap\"},{\"default\":\"flex-start\",\"kind\":null,\"name\":\"justify_content\"}]},{\"extends\":null,\"module\":null,\"name\":\"GridStack1\",\"overrides\":[],\"properties\":[{\"default\":\"warn\",\"kind\":null,\"name\":\"mode\"},{\"default\":null,\"kind\":null,\"name\":\"ncols\"},{\"default\":null,\"kind\":null,\"name\":\"nrows\"},{\"default\":true,\"kind\":null,\"name\":\"allow_resize\"},{\"default\":true,\"kind\":null,\"name\":\"allow_drag\"},{\"default\":[],\"kind\":null,\"name\":\"state\"}]},{\"extends\":null,\"module\":null,\"name\":\"click1\",\"overrides\":[],\"properties\":[{\"default\":\"\",\"kind\":null,\"name\":\"terminal_output\"},{\"default\":\"\",\"kind\":null,\"name\":\"debug_name\"},{\"default\":0,\"kind\":null,\"name\":\"clears\"}]},{\"extends\":null,\"module\":null,\"name\":\"NotificationAreaBase1\",\"overrides\":[],\"properties\":[{\"default\":\"bottom-right\",\"kind\":null,\"name\":\"position\"},{\"default\":0,\"kind\":null,\"name\":\"_clear\"}]},{\"extends\":null,\"module\":null,\"name\":\"NotificationArea1\",\"overrides\":[],\"properties\":[{\"default\":[],\"kind\":null,\"name\":\"notifications\"},{\"default\":\"bottom-right\",\"kind\":null,\"name\":\"position\"},{\"default\":0,\"kind\":null,\"name\":\"_clear\"},{\"default\":[{\"background\":\"#ffc107\",\"icon\":{\"className\":\"fas fa-exclamation-triangle\",\"color\":\"white\",\"tagName\":\"i\"},\"type\":\"warning\"},{\"background\":\"#007bff\",\"icon\":{\"className\":\"fas fa-info-circle\",\"color\":\"white\",\"tagName\":\"i\"},\"type\":\"info\"}],\"kind\":null,\"name\":\"types\"}]},{\"extends\":null,\"module\":null,\"name\":\"Notification\",\"overrides\":[],\"properties\":[{\"default\":null,\"kind\":null,\"name\":\"background\"},{\"default\":3000,\"kind\":null,\"name\":\"duration\"},{\"default\":null,\"kind\":null,\"name\":\"icon\"},{\"default\":\"\",\"kind\":null,\"name\":\"message\"},{\"default\":null,\"kind\":null,\"name\":\"notification_type\"},{\"default\":false,\"kind\":null,\"name\":\"_destroyed\"}]},{\"extends\":null,\"module\":null,\"name\":\"TemplateActions1\",\"overrides\":[],\"properties\":[{\"default\":0,\"kind\":null,\"name\":\"open_modal\"},{\"default\":0,\"kind\":null,\"name\":\"close_modal\"}]},{\"extends\":null,\"module\":null,\"name\":\"MaterialTemplateActions1\",\"overrides\":[],\"properties\":[{\"default\":0,\"kind\":null,\"name\":\"open_modal\"},{\"default\":0,\"kind\":null,\"name\":\"close_modal\"}]}],\"roots\":{\"references\":[{\"attributes\":{},\"id\":\"12664\",\"type\":\"BasicTicker\"},{\"attributes\":{},\"id\":\"12655\",\"type\":\"LinearScale\"},{\"attributes\":{},\"id\":\"12669\",\"type\":\"WheelZoomTool\"},{\"attributes\":{\"source\":{\"id\":\"12680\"}},\"id\":\"12687\",\"type\":\"CDSView\"},{\"attributes\":{\"line_alpha\":0.1,\"line_color\":\"#30a2da\",\"line_width\":2,\"x\":{\"field\":\"month_\"},\"y\":{\"field\":\"Revenue\"}},\"id\":\"12684\",\"type\":\"Line\"},{\"attributes\":{},\"id\":\"12702\",\"type\":\"UnionRenderers\"},{\"attributes\":{},\"id\":\"12667\",\"type\":\"SaveTool\"},{\"attributes\":{\"line_alpha\":0.2,\"line_color\":\"#30a2da\",\"line_width\":2,\"x\":{\"field\":\"month_\"},\"y\":{\"field\":\"Revenue\"}},\"id\":\"12685\",\"type\":\"Line\"},{\"attributes\":{\"overlay\":{\"id\":\"12672\"}},\"id\":\"12670\",\"type\":\"BoxZoomTool\"},{\"attributes\":{\"line_color\":\"#30a2da\",\"line_width\":2,\"x\":{\"field\":\"month_\"},\"y\":{\"field\":\"Revenue\"}},\"id\":\"12688\",\"type\":\"Line\"},{\"attributes\":{},\"id\":\"12671\",\"type\":\"ResetTool\"},{\"attributes\":{\"coordinates\":null,\"data_source\":{\"id\":\"12680\"},\"glyph\":{\"id\":\"12683\"},\"group\":null,\"hover_glyph\":null,\"muted_glyph\":{\"id\":\"12685\"},\"nonselection_glyph\":{\"id\":\"12684\"},\"selection_glyph\":{\"id\":\"12688\"},\"view\":{\"id\":\"12687\"}},\"id\":\"12686\",\"type\":\"GlyphRenderer\"},{\"attributes\":{\"bottom_units\":\"screen\",\"coordinates\":null,\"fill_alpha\":0.5,\"fill_color\":\"lightgrey\",\"group\":null,\"left_units\":\"screen\",\"level\":\"overlay\",\"line_alpha\":1.0,\"line_color\":\"black\",\"line_dash\":[4,4],\"line_width\":2,\"right_units\":\"screen\",\"syncable\":false,\"top_units\":\"screen\"},\"id\":\"12672\",\"type\":\"BoxAnnotation\"},{\"attributes\":{\"margin\":[5,10,5,10],\"options\":[\"2021\",\"2022\"],\"title\":\"Select Year\",\"value\":\"2021\"},\"id\":\"12644\",\"type\":\"panel.models.widgets.CustomSelect\"},{\"attributes\":{\"children\":[{\"id\":\"12644\"},{\"id\":\"12645\"}],\"margin\":[0,0,0,0],\"name\":\"Column12330\"},\"id\":\"12643\",\"type\":\"Column\"},{\"attributes\":{},\"id\":\"12690\",\"type\":\"BasicTickFormatter\"},{\"attributes\":{},\"id\":\"12681\",\"type\":\"Selection\"},{\"attributes\":{\"data\":{\"Revenue\":{\"__ndarray__\":\"AAAAAAA+skAAAAAAAGS0QAAAAAAANKxAAAAAAIBaw0AAAAAAAEezQAAAAAAAQK9AAAAAAAD7uEAAAAAAAP++QAAAAAAAerJAAAAAAADlukAAAAAAAOPGQAAAAACA7MhA\",\"dtype\":\"float64\",\"order\":\"little\",\"shape\":[12]},\"month_\":[1,2,3,4,5,6,7,8,9,10,11,12]},\"selected\":{\"id\":\"12681\"},\"selection_policy\":{\"id\":\"12702\"}},\"id\":\"12680\",\"type\":\"ColumnDataSource\"},{\"attributes\":{},\"id\":\"12693\",\"type\":\"BasicTickFormatter\"},{\"attributes\":{\"children\":[{\"id\":\"12650\"}],\"margin\":[0,0,0,0],\"name\":\"Row12329\"},\"id\":\"12646\",\"type\":\"Row\"},{\"attributes\":{\"client_comm_id\":\"39dc8d73b3174f278eb4d1c625bac61c\",\"comm_id\":\"854ca9d0d7a14ce4a7f37118e762f688\",\"plot_id\":\"12642\"},\"id\":\"12735\",\"type\":\"panel.models.comm_manager.CommManager\"},{\"attributes\":{\"end\":12.0,\"reset_end\":12.0,\"reset_start\":1.0,\"start\":1.0,\"tags\":[[[\"month_\",\"month_\",null]]]},\"id\":\"12647\",\"type\":\"Range1d\"},{\"attributes\":{\"line_color\":\"#30a2da\",\"line_width\":2,\"x\":{\"field\":\"month_\"},\"y\":{\"field\":\"Revenue\"}},\"id\":\"12683\",\"type\":\"Line\"},{\"attributes\":{},\"id\":\"12691\",\"type\":\"AllLabels\"},{\"attributes\":{\"children\":[{\"id\":\"12643\"},{\"id\":\"12646\"}],\"margin\":[0,0,0,0],\"name\":\"Column12242\"},\"id\":\"12642\",\"type\":\"Column\"},{\"attributes\":{\"end\":13676.1,\"reset_end\":13676.1,\"reset_start\":2694.9,\"start\":2694.9,\"tags\":[[[\"Revenue\",\"Revenue\",null]]]},\"id\":\"12648\",\"type\":\"Range1d\"},{\"attributes\":{},\"id\":\"12694\",\"type\":\"AllLabels\"},{\"attributes\":{\"below\":[{\"id\":\"12659\"}],\"center\":[{\"id\":\"12662\"},{\"id\":\"12666\"}],\"height\":300,\"left\":[{\"id\":\"12663\"}],\"margin\":[5,5,5,5],\"min_border_bottom\":10,\"min_border_left\":10,\"min_border_right\":10,\"min_border_top\":10,\"renderers\":[{\"id\":\"12686\"}],\"sizing_mode\":\"fixed\",\"title\":{\"id\":\"12651\"},\"toolbar\":{\"id\":\"12673\"},\"width\":700,\"x_range\":{\"id\":\"12647\"},\"x_scale\":{\"id\":\"12655\"},\"y_range\":{\"id\":\"12648\"},\"y_scale\":{\"id\":\"12657\"}},\"id\":\"12650\",\"subtype\":\"Figure\",\"type\":\"Plot\"},{\"attributes\":{\"callback\":null,\"renderers\":[{\"id\":\"12686\"}],\"tags\":[\"hv_created\"],\"tooltips\":[[\"month_\",\"@{month_}\"],[\"Revenue\",\"@{Revenue}\"]]},\"id\":\"12649\",\"type\":\"HoverTool\"},{\"attributes\":{},\"id\":\"12657\",\"type\":\"LinearScale\"},{\"attributes\":{},\"id\":\"12668\",\"type\":\"PanTool\"},{\"attributes\":{\"coordinates\":null,\"group\":null,\"text\":\"Revenue\",\"text_color\":\"black\",\"text_font_size\":\"12pt\"},\"id\":\"12651\",\"type\":\"Title\"},{\"attributes\":{\"tools\":[{\"id\":\"12649\"},{\"id\":\"12667\"},{\"id\":\"12668\"},{\"id\":\"12669\"},{\"id\":\"12670\"},{\"id\":\"12671\"}]},\"id\":\"12673\",\"type\":\"Toolbar\"},{\"attributes\":{\"axis\":{\"id\":\"12659\"},\"coordinates\":null,\"grid_line_color\":null,\"group\":null,\"ticker\":null},\"id\":\"12662\",\"type\":\"Grid\"},{\"attributes\":{\"axis_label\":\"month_\",\"coordinates\":null,\"formatter\":{\"id\":\"12690\"},\"group\":null,\"major_label_policy\":{\"id\":\"12691\"},\"ticker\":{\"id\":\"12660\"}},\"id\":\"12659\",\"type\":\"LinearAxis\"},{\"attributes\":{\"active\":0,\"labels\":[\"Revenue\",\"Order_count\"],\"margin\":[5,10,5,10]},\"id\":\"12645\",\"type\":\"RadioButtonGroup\"},{\"attributes\":{},\"id\":\"12660\",\"type\":\"BasicTicker\"},{\"attributes\":{\"axis_label\":\"Revenue\",\"coordinates\":null,\"formatter\":{\"id\":\"12693\"},\"group\":null,\"major_label_policy\":{\"id\":\"12694\"},\"ticker\":{\"id\":\"12664\"}},\"id\":\"12663\",\"type\":\"LinearAxis\"},{\"attributes\":{\"axis\":{\"id\":\"12663\"},\"coordinates\":null,\"dimension\":1,\"grid_line_color\":null,\"group\":null,\"ticker\":null},\"id\":\"12666\",\"type\":\"Grid\"}],\"root_ids\":[\"12642\",\"12735\"]},\"title\":\"Bokeh Application\",\"version\":\"2.4.3\"}};\n",
       "    var render_items = [{\"docid\":\"7fa040f4-9377-4937-ac1c-ce12be184d6f\",\"root_ids\":[\"12642\"],\"roots\":{\"12642\":\"bd80c17c-92a4-4d8d-b905-638b9fdd4ca5\"}}];\n",
       "    root.Bokeh.embed.embed_items_notebook(docs_json, render_items);\n",
       "  }\n",
       "  if (root.Bokeh !== undefined && root.Bokeh.Panel !== undefined) {\n",
       "    embed_document(root);\n",
       "  } else {\n",
       "    var attempts = 0;\n",
       "    var timer = setInterval(function(root) {\n",
       "      if (root.Bokeh !== undefined && root.Bokeh.Panel !== undefined) {\n",
       "        clearInterval(timer);\n",
       "        embed_document(root);\n",
       "      } else if (document.readyState == \"complete\") {\n",
       "        attempts++;\n",
       "        if (attempts > 200) {\n",
       "          clearInterval(timer);\n",
       "          console.log(\"Bokeh: ERROR: Unable to run BokehJS code because BokehJS library is missing\");\n",
       "        }\n",
       "      }\n",
       "    }, 25, root)\n",
       "  }\n",
       "})(window);</script>"
      ],
      "text/plain": [
       "Column\n",
       "    [0] Column\n",
       "        [0] Select(options=[2021, 2022], value=2021)\n",
       "        [1] RadioButtonGroup(name='Type', options=['Revenue', 'Order_count']...], value='Revenue')\n",
       "    [1] Row\n",
       "        [0] HoloViews(Curve, name='interactive12241')"
      ]
     },
     "execution_count": 25,
     "metadata": {
      "application/vnd.holoviews_exec.v0+json": {
       "id": "12642"
      }
     },
     "output_type": "execute_result"
    }
   ],
   "source": [
    "# Revenue by month\n",
    "\n",
    "# create widgets\n",
    "select_line = pn.widgets.Select(name='Select Year', options=[2021, 2022])\n",
    "radioButtonGroup_line = pn.widgets.RadioButtonGroup(name='Type', options=['Revenue', 'Order_count'])\n",
    "\n",
    "\n",
    "# define the plot function\n",
    "def line_plot(a, b):\n",
    "    if b == 'Revenue':\n",
    "        rev_mon = df[df['year_']==a].groupby(['year_', 'month_']).agg(Revenue=('price', 'sum')).reset_index()\n",
    "        return rev_mon.hvplot(x='month_', y='Revenue', kind='line', title='Revenue')\n",
    "    elif b == 'Order_count':\n",
    "        rev_mon = df[df['year_']==a].groupby(['year_', 'month_']).agg(Order_count=('price', 'count')).reset_index()\n",
    "        return rev_mon.hvplot(x='month_', y='Order_count', kind='line', title='Order_count')\n",
    "    \n",
    "\n",
    "# create interaction between widget and function\n",
    "pn.interact(line_plot, a=select_line, b=radioButtonGroup_line)"
   ]
  },
  {
   "cell_type": "markdown",
   "id": "7c2a036a",
   "metadata": {},
   "source": [
    "### Creating Dashboard"
   ]
  },
  {
   "cell_type": "code",
   "execution_count": 26,
   "id": "b6909085",
   "metadata": {},
   "outputs": [],
   "source": [
    "# layout using template\n",
    "template = pn.template.FastListTemplate(\n",
    "    title=\"Bakery Sales\",\n",
    "    sidebar=[pn.pane.JPG('temp.jpg', sizing_mode='scale_both')],\n",
    "    main=[pn.Row(pn.Column(\n",
    "                    pn.pane.Markdown(\"# Bar Plot\"),\n",
    "                    pn.interact(bar_plot, a=slider_bar, b=select_bar, c=radioButtonGroup_bar)),\n",
    "                 pn.Column(\n",
    "                    pn.pane.Markdown(\"# Line Plot\"),\n",
    "                    pn.interact(line_plot, a=select_line, b=radioButtonGroup_line)))])\n",
    "\n",
    "# template.show()\n",
    "template.servable();"
   ]
  },
  {
   "cell_type": "code",
   "execution_count": null,
   "id": "de622624",
   "metadata": {},
   "outputs": [],
   "source": []
  },
  {
   "cell_type": "code",
   "execution_count": null,
   "id": "c19767f1",
   "metadata": {},
   "outputs": [],
   "source": []
  },
  {
   "cell_type": "code",
   "execution_count": null,
   "id": "fe7bd087",
   "metadata": {},
   "outputs": [],
   "source": []
  },
  {
   "cell_type": "code",
   "execution_count": null,
   "id": "dd165de0",
   "metadata": {},
   "outputs": [],
   "source": []
  },
  {
   "cell_type": "code",
   "execution_count": null,
   "id": "178fc8b3",
   "metadata": {},
   "outputs": [],
   "source": []
  }
 ],
 "metadata": {
  "kernelspec": {
   "display_name": "Python 3 (ipykernel)",
   "language": "python",
   "name": "python3"
  },
  "language_info": {
   "codemirror_mode": {
    "name": "ipython",
    "version": 3
   },
   "file_extension": ".py",
   "mimetype": "text/x-python",
   "name": "python",
   "nbconvert_exporter": "python",
   "pygments_lexer": "ipython3",
   "version": "3.9.13"
  }
 },
 "nbformat": 4,
 "nbformat_minor": 5
}
